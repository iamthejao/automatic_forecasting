{
 "cells": [
  {
   "cell_type": "code",
   "execution_count": 19,
   "metadata": {},
   "outputs": [],
   "source": [
    "import GPy\n",
    "import gpflow\n",
    "import matplotlib.pyplot as plt\n",
    "import numpy as np"
   ]
  },
  {
   "cell_type": "code",
   "execution_count": null,
   "metadata": {},
   "outputs": [],
   "source": [
    "X = np.arange(1, 3, 0.5)[None].T\n",
    "Xprime = np.arange(3, 5, 0.5)[None].T"
   ]
  },
  {
   "cell_type": "code",
   "execution_count": 35,
   "metadata": {},
   "outputs": [
    {
     "data": {
      "text/plain": [
       "-1.7763568394002505e-15"
      ]
     },
     "execution_count": 35,
     "metadata": {},
     "output_type": "execute_result"
    }
   ],
   "source": [
    "linear_gpy = GPy.kern.Linear(1)\n",
    "linear_gpy.variances[:] = 3.123\n",
    "linear_gpflow = gpflow.kernels.Linear(1)\n",
    "linear_gpflow.variance.assign(3.123)\n",
    "\n",
    "(linear_gpy.K(X, Xprime) - linear_gpflow.K(X, Xprime).numpy()).sum()"
   ]
  },
  {
   "cell_type": "code",
   "execution_count": 40,
   "metadata": {},
   "outputs": [
    {
     "data": {
      "text/plain": [
       "7.771561172376096e-16"
      ]
     },
     "execution_count": 40,
     "metadata": {},
     "output_type": "execute_result"
    }
   ],
   "source": [
    "rbf_gpy = GPy.kern.RBF(1)\n",
    "rbf_gpy.variance[:] = 1.123\n",
    "rbf_gpy.lengthscale[:] = 3.333\n",
    "\n",
    "rbf_gpflow = gpflow.kernels.SquaredExponential(1)\n",
    "rbf_gpflow.variance.assign(1.123)\n",
    "rbf_gpflow.lengthscales.assign(3.333)\n",
    "\n",
    "(rbf_gpy.K(X, Xprime) - rbf_gpflow.K(X, Xprime).numpy()).sum()"
   ]
  },
  {
   "cell_type": "code",
   "execution_count": 52,
   "metadata": {},
   "outputs": [
    {
     "data": {
      "text/plain": [
       "-7.993605777301127e-15"
      ]
     },
     "execution_count": 52,
     "metadata": {},
     "output_type": "execute_result"
    }
   ],
   "source": [
    "per_gpy = GPy.kern.StdPeriodic(1)\n",
    "per_gpy.variance[:] = 5.5555\n",
    "per_gpy.lengthscale[:] = 1.111\n",
    "per_gpy.period[:] = 3.333\n",
    "\n",
    "per_gpflow = gpflow.kernels.Periodic(gpflow.kernels.SquaredExponential())\n",
    "per_gpflow.base_kernel.variance.assign(5.5555)\n",
    "per_gpflow.base_kernel.lengthscales.assign(1.111)\n",
    "per_gpflow.period.assign(3.333)\n",
    "\n",
    "(per_gpy.K(X, Xprime) - per_gpflow.K(X, Xprime).numpy()).sum()"
   ]
  },
  {
   "cell_type": "code",
   "execution_count": 56,
   "metadata": {},
   "outputs": [
    {
     "data": {
      "text/plain": [
       "-16.179879237675678"
      ]
     },
     "execution_count": 56,
     "metadata": {},
     "output_type": "execute_result"
    }
   ],
   "source": [
    "cos_gpy = GPy.kern.Cosine(1)\n",
    "cos_gpy.variance[:] = 5.5555\n",
    "cos_gpy.lengthscale[:] = 1.111\n",
    "\n",
    "cos_gpflow = gpflow.kernels.Cosine(1)\n",
    "cos_gpflow.variance.assign(5.5555)\n",
    "cos_gpflow.lengthscales.assign(1.111)\n",
    "\n",
    "(cos_gpy.K(X, Xprime) - cos_gpflow.K(X, Xprime).numpy()).sum()"
   ]
  },
  {
   "cell_type": "code",
   "execution_count": 62,
   "metadata": {},
   "outputs": [],
   "source": [
    "from gpflow.kernels import AnisotropicStationary\n",
    "import tensorflow as tf\n",
    "\n",
    "class CosineLikeGPy(AnisotropicStationary):\n",
    "    \"\"\"\n",
    "    The Cosine kernel. Functions drawn from a GP with this kernel are sinusoids\n",
    "    (with a random phase).  The kernel equation is\n",
    "\n",
    "        k(r) = σ² cos{2πd}\n",
    "\n",
    "    where:\n",
    "    d  is the sum of the per-dimension differences between the input points, scaled by the\n",
    "    lengthscale parameter ℓ (i.e. Σᵢ [(X - X2ᵀ) / ℓ]ᵢ),\n",
    "    σ² is the variance parameter.\n",
    "    \"\"\"\n",
    "\n",
    "    def K_d(self, d):\n",
    "        d = tf.reduce_sum(d, axis=-1)\n",
    "        return self.variance * tf.cos(d) #2 * np.pi *"
   ]
  },
  {
   "cell_type": "code",
   "execution_count": 63,
   "metadata": {},
   "outputs": [
    {
     "data": {
      "text/plain": [
       "3.774758283725532e-15"
      ]
     },
     "execution_count": 63,
     "metadata": {},
     "output_type": "execute_result"
    }
   ],
   "source": [
    "cos_gpy = GPy.kern.Cosine(1)\n",
    "cos_gpy.variance[:] = 5.5555\n",
    "cos_gpy.lengthscale[:] = 1.111\n",
    "\n",
    "cosgpy_gpflow = CosineLikeGPy(1)\n",
    "cosgpy_gpflow.variance.assign(5.5555)\n",
    "cosgpy_gpflow.lengthscales.assign(1.111)\n",
    "\n",
    "(cos_gpy.K(X, Xprime) - cosgpy_gpflow.K(X, Xprime).numpy()).sum()"
   ]
  },
  {
   "cell_type": "code",
   "execution_count": 64,
   "metadata": {},
   "outputs": [
    {
     "name": "stdout",
     "output_type": "stream",
     "text": [
      "[SCIPY OPT: ] False\n"
     ]
    }
   ],
   "source": [
    "import model as m\n",
    "import model_gpflow as mflow"
   ]
  },
  {
   "cell_type": "code",
   "execution_count": 66,
   "metadata": {},
   "outputs": [
    {
     "data": {
      "text/plain": [
       "1.441132767808495e-06"
      ]
     },
     "execution_count": 66,
     "metadata": {},
     "output_type": "execute_result"
    }
   ],
   "source": [
    "sm = m.ExtraKernels.SpectralMixture(2)\n",
    "smflow = mflow.ExtraKernels.SpectralMixture(2)\n",
    "(sm.K(X, Xprime) - smflow.K(X, Xprime).numpy()).sum()"
   ]
  },
  {
   "cell_type": "code",
   "execution_count": null,
   "metadata": {},
   "outputs": [],
   "source": []
  }
 ],
 "metadata": {
  "kernelspec": {
   "display_name": "Python 3",
   "language": "python",
   "name": "python3"
  },
  "language_info": {
   "codemirror_mode": {
    "name": "ipython",
    "version": 3
   },
   "file_extension": ".py",
   "mimetype": "text/x-python",
   "name": "python",
   "nbconvert_exporter": "python",
   "pygments_lexer": "ipython3",
   "version": "3.7.6"
  }
 },
 "nbformat": 4,
 "nbformat_minor": 4
}
