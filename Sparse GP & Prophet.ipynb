{
 "cells": [
  {
   "cell_type": "code",
   "execution_count": 1,
   "metadata": {},
   "outputs": [
    {
     "name": "stdout",
     "output_type": "stream",
     "text": [
      "[SCIPY OPT: ] False\n",
      "[0.2, 1.0]\n"
     ]
    }
   ],
   "source": [
    "import os\n",
    "from pathlib import Path\n",
    "import pandas as pd\n",
    "import time\n",
    "import experiment_config_gpflow as config\n",
    "import experiment_funcs_gpflow as ef\n",
    "from fbprophet import Prophet\n",
    "from analysis_gpflow import Analyst\n",
    "import scipy.stats as sps\n",
    "os.environ['NUMEXPR_MAX_THREADS'] = '12'"
   ]
  },
  {
   "cell_type": "code",
   "execution_count": null,
   "metadata": {},
   "outputs": [],
   "source": [
    "# Periodicity is '1D', '1W', '1M', '1Q', '1Y' etc\n",
    "def prophet_fcast(train, test, periodicity):\n",
    "\n",
    "   u, std = train.mean(), train.std()\n",
    "\n",
    "   train_norm = (train - u)/std\n",
    "   test_norm = (test - u)/std\n",
    "\n",
    "   train_size = train_norm.shape[0]\n",
    "   test_size = test_norm.shape[0]\n",
    "   total_size = train_size + test_size\n",
    "\n",
    "   dates = pd.date_range(start='2000-01-01', periods=total_size, freq=periodicity)\n",
    "   dates_train = dates[:train_size]\n",
    "   dates_test = dates[train_size:total_size]\n",
    "\n",
    "   train_df = pd.DataFrame()\n",
    "   train_df['ds'] = dates_train\n",
    "   train_df['y'] = train_norm\n",
    "\n",
    "   test_df = pd.DataFrame()\n",
    "   test_df['ds'] = dates_test\n",
    "   test_df['y'] = test_norm\n",
    "\n",
    "   m_def = Prophet(interval_width=0.95)\n",
    "   m_def = m_def.fit(train_df)\n",
    "   forecast = m_def.predict(test_df)\n",
    "\n",
    "   return forecast"
   ]
  },
  {
   "cell_type": "code",
   "execution_count": 2,
   "metadata": {},
   "outputs": [
    {
     "name": "stdout",
     "output_type": "stream",
     "text": [
      "train6.csv\n",
      "SVGP 100 WAIC\n"
     ]
    }
   ],
   "source": [
    "\n",
    "# SEE experiment_config_gpflow.py for the experiment configurations\n",
    "# I have added [:1] to the second and third loop so it runs only once (one file, one model)\n",
    "df_results = []\n",
    "for folder in config.DATA_FOLDERS:\n",
    "    \n",
    "    \n",
    "    location = Path(config.DATA_ROOT).joinpath(folder)\n",
    "    trainFiles = list(filter(lambda name: 'train' in name, os.listdir(location)))\n",
    "    \n",
    "    for file in trainFiles[:1]:\n",
    "        \n",
    "        print(file)\n",
    "        \n",
    "        # This is a lazy evaluator, it returns a function that will be called inside the training routine\n",
    "        # if you want access to it just set data = data() \n",
    "        data = ef.read_experiment_data(folder, location, file)()\n",
    "        idx = ef.get_idx(file)\n",
    "        \n",
    "        for kName in list(config.EXPERIMENTS.keys())[:1]:\n",
    "            \n",
    "            print(kName)\n",
    "            \n",
    "            # Experiment input\n",
    "            inputs = ef.ExperimentInput(kName, data, config.EXPERIMENTS[kName],\n",
    "                                        config.LIKELIHOOD_EXPERIMENT.get(kName, config.LIKELIHOOD_DEFAULT),\n",
    "                                        config.MODEL_EXPERIMENT.get(kName, config.MODEL_DEFAULT),\n",
    "                                        config.PRIORS_EXPERIMENT.get(kName, config.PRIOR_DEFAULT),\n",
    "                                        config.SCORE.get(kName, config.SCORE_DEFAULT),\n",
    "                                        config.INDUCING_EXPERIMENT.get(kName, config.INDUCING_DEFAULT),\n",
    "                                        config.N_RESTARTS.get(kName, config.N_RESTARTS_DEF))\n",
    "            \n",
    "            # Models because returns a list with one model per checkpoint (number of restarts)\n",
    "            # In the config file I set only the last one\n",
    "            # Models is a list of (reg, goodness, in_, failed) -> gpflow model, score, input, failed training\n",
    "            # Training parameters are inside model_gpflow.py\n",
    "            #models = ef.train_model(inputs)\n",
    "#             for m in models:\n",
    "#                 # Saves serialized results in the file and outputs dataframe with results\n",
    "#                 # This gets saved in the results folder\n",
    "#                 out_results = ef.save_model_results(m)\n",
    "#                 df_results.append(out_results)\n",
    "        \n",
    "#         # Prophet\n",
    "#         # Electricity dataset has daily observations\n",
    "#         # data['ytrain'], data['ytest'] are already normalized\n",
    "#         forecast = prophet_fcast(data['ytrain'], data['ytest'], '1D')\n",
    "#         analyst = Analyst(None, data, 'prophet', 'waic', period=1)\n",
    "#         stdFcast = (forecast[['yhat_upper']].values-forecast[['yhat']].values)/sps.norm.ppf(0.975)\n",
    "#         out_prophet = analyst.measures_dict(forecast[['yhat']].values, stdFcast, data['ytest'], 'prophet')\n",
    "#         out_prophet['folder'] = folder\n",
    "#         out_prophet['idx'] = idx\n",
    "#         df_results.append(pd.DataFrame([out_prophet]))"
   ]
  },
  {
   "cell_type": "code",
   "execution_count": null,
   "metadata": {},
   "outputs": [],
   "source": [
    "results = pd.concat(df_results)"
   ]
  },
  {
   "cell_type": "code",
   "execution_count": null,
   "metadata": {},
   "outputs": [],
   "source": [
    "pd.concat(df_results).groupby('name').mean()[['crps', 'mae', 'rmse', 'smape']]"
   ]
  },
  {
   "cell_type": "code",
   "execution_count": null,
   "metadata": {},
   "outputs": [],
   "source": [
    "m = models[0][0]"
   ]
  },
  {
   "cell_type": "code",
   "execution_count": 3,
   "metadata": {},
   "outputs": [],
   "source": [
    "import tensorflow as tf\n",
    "from model_gpflow import build_model"
   ]
  },
  {
   "cell_type": "code",
   "execution_count": 4,
   "metadata": {},
   "outputs": [
    {
     "data": {
      "text/html": [
       "&lt;gpflow.models.svgp.SVGP object at 0x7fd286201750&gt;\n",
       "<table>\n",
       "<thead>\n",
       "<tr><th>name                                           </th><th>class    </th><th>transform       </th><th>prior    </th><th>trainable  </th><th>shape        </th><th>dtype  </th><th>value           </th></tr>\n",
       "</thead>\n",
       "<tbody>\n",
       "<tr><td>SVGP.kernel.kernels[0].kernels[0].variance     </td><td>Parameter</td><td>Softplus        </td><td>         </td><td>False      </td><td>()           </td><td>float32</td><td>0.99999994      </td></tr>\n",
       "<tr><td>SVGP.kernel.kernels[0].kernels[0].lengthscales </td><td>Parameter</td><td>Softplus        </td><td>         </td><td>True       </td><td>()           </td><td>float32</td><td>0.99999994      </td></tr>\n",
       "<tr><td>SVGP.kernel.kernels[0].kernels[1].variance     </td><td>Parameter</td><td>Softplus        </td><td>         </td><td>True       </td><td>()           </td><td>float32</td><td>0.99999994      </td></tr>\n",
       "<tr><td>SVGP.kernel.kernels[0].kernels[1].lengthscales </td><td>Parameter</td><td>Softplus        </td><td>         </td><td>True       </td><td>()           </td><td>float32</td><td>0.99999994      </td></tr>\n",
       "<tr><td>SVGP.kernel.kernels[1].kernels[0].variance     </td><td>Parameter</td><td>Softplus        </td><td>         </td><td>False      </td><td>()           </td><td>float32</td><td>0.99999994      </td></tr>\n",
       "<tr><td>SVGP.kernel.kernels[1].kernels[0].lengthscales </td><td>Parameter</td><td>Softplus        </td><td>         </td><td>True       </td><td>()           </td><td>float32</td><td>0.99999994      </td></tr>\n",
       "<tr><td>SVGP.kernel.kernels[1].kernels[1].variance     </td><td>Parameter</td><td>Softplus        </td><td>         </td><td>True       </td><td>()           </td><td>float32</td><td>0.99999994      </td></tr>\n",
       "<tr><td>SVGP.kernel.kernels[1].kernels[1].lengthscales </td><td>Parameter</td><td>Softplus        </td><td>         </td><td>True       </td><td>()           </td><td>float32</td><td>0.99999994      </td></tr>\n",
       "<tr><td>SVGP.kernel.kernels[2].variance                </td><td>Parameter</td><td>Softplus        </td><td>         </td><td>True       </td><td>()           </td><td>float32</td><td>0.99999994      </td></tr>\n",
       "<tr><td>SVGP.kernel.kernels[3].variance                </td><td>Parameter</td><td>Softplus        </td><td>         </td><td>True       </td><td>()           </td><td>float32</td><td>0.99999994      </td></tr>\n",
       "<tr><td>SVGP.kernel.kernels[3].lengthscales            </td><td>Parameter</td><td>Softplus        </td><td>         </td><td>True       </td><td>()           </td><td>float32</td><td>0.99999994      </td></tr>\n",
       "<tr><td>SVGP.kernel.kernels[4].base_kernel.variance    </td><td>Parameter</td><td>Softplus        </td><td>         </td><td>True       </td><td>()           </td><td>float32</td><td>0.99999994      </td></tr>\n",
       "<tr><td>SVGP.kernel.kernels[4].base_kernel.lengthscales</td><td>Parameter</td><td>Softplus        </td><td>         </td><td>True       </td><td>()           </td><td>float32</td><td>0.99999994      </td></tr>\n",
       "<tr><td>SVGP.kernel.kernels[4].period                  </td><td>Parameter</td><td>Softplus        </td><td>         </td><td>False      </td><td>()           </td><td>float32</td><td>0.2             </td></tr>\n",
       "<tr><td>SVGP.kernel.kernels[5].base_kernel.variance    </td><td>Parameter</td><td>Softplus        </td><td>         </td><td>True       </td><td>()           </td><td>float32</td><td>0.99999994      </td></tr>\n",
       "<tr><td>SVGP.kernel.kernels[5].base_kernel.lengthscales</td><td>Parameter</td><td>Softplus        </td><td>         </td><td>True       </td><td>()           </td><td>float32</td><td>0.99999994      </td></tr>\n",
       "<tr><td>SVGP.kernel.kernels[5].period                  </td><td>Parameter</td><td>Softplus        </td><td>         </td><td>False      </td><td>()           </td><td>float32</td><td>0.99999994      </td></tr>\n",
       "<tr><td>SVGP.likelihood.variance                       </td><td>Parameter</td><td>Softplus + Shift</td><td>LogNormal</td><td>True       </td><td>()           </td><td>float32</td><td>1.0             </td></tr>\n",
       "<tr><td>SVGP.inducing_variable.Z                       </td><td>Parameter</td><td>                </td><td>         </td><td>True       </td><td>(100, 1)     </td><td>float32</td><td>[[2.6828403...  </td></tr>\n",
       "<tr><td>SVGP.q_mu                                      </td><td>Parameter</td><td>                </td><td>         </td><td>False      </td><td>(100, 1)     </td><td>float32</td><td>[[0....         </td></tr>\n",
       "<tr><td>SVGP.q_sqrt                                    </td><td>Parameter</td><td>FillTriangular  </td><td>         </td><td>False      </td><td>(1, 100, 100)</td><td>float32</td><td>[[[1., 0., 0....</td></tr>\n",
       "</tbody>\n",
       "</table>"
      ],
      "text/plain": [
       "<gpflow.models.svgp.SVGP object at 0x7fd286201750>\n",
       "╒═════════════════════════════════════════════════╤═══════════╤══════════════════╤═══════════╤═════════════╤═══════════════╤═════════╤══════════════════╕\n",
       "│ name                                            │ class     │ transform        │ prior     │ trainable   │ shape         │ dtype   │ value            │\n",
       "╞═════════════════════════════════════════════════╪═══════════╪══════════════════╪═══════════╪═════════════╪═══════════════╪═════════╪══════════════════╡\n",
       "│ SVGP.kernel.kernels[0].kernels[0].variance      │ Parameter │ Softplus         │           │ False       │ ()            │ float32 │ 0.99999994       │\n",
       "├─────────────────────────────────────────────────┼───────────┼──────────────────┼───────────┼─────────────┼───────────────┼─────────┼──────────────────┤\n",
       "│ SVGP.kernel.kernels[0].kernels[0].lengthscales  │ Parameter │ Softplus         │           │ True        │ ()            │ float32 │ 0.99999994       │\n",
       "├─────────────────────────────────────────────────┼───────────┼──────────────────┼───────────┼─────────────┼───────────────┼─────────┼──────────────────┤\n",
       "│ SVGP.kernel.kernels[0].kernels[1].variance      │ Parameter │ Softplus         │           │ True        │ ()            │ float32 │ 0.99999994       │\n",
       "├─────────────────────────────────────────────────┼───────────┼──────────────────┼───────────┼─────────────┼───────────────┼─────────┼──────────────────┤\n",
       "│ SVGP.kernel.kernels[0].kernels[1].lengthscales  │ Parameter │ Softplus         │           │ True        │ ()            │ float32 │ 0.99999994       │\n",
       "├─────────────────────────────────────────────────┼───────────┼──────────────────┼───────────┼─────────────┼───────────────┼─────────┼──────────────────┤\n",
       "│ SVGP.kernel.kernels[1].kernels[0].variance      │ Parameter │ Softplus         │           │ False       │ ()            │ float32 │ 0.99999994       │\n",
       "├─────────────────────────────────────────────────┼───────────┼──────────────────┼───────────┼─────────────┼───────────────┼─────────┼──────────────────┤\n",
       "│ SVGP.kernel.kernels[1].kernels[0].lengthscales  │ Parameter │ Softplus         │           │ True        │ ()            │ float32 │ 0.99999994       │\n",
       "├─────────────────────────────────────────────────┼───────────┼──────────────────┼───────────┼─────────────┼───────────────┼─────────┼──────────────────┤\n",
       "│ SVGP.kernel.kernels[1].kernels[1].variance      │ Parameter │ Softplus         │           │ True        │ ()            │ float32 │ 0.99999994       │\n",
       "├─────────────────────────────────────────────────┼───────────┼──────────────────┼───────────┼─────────────┼───────────────┼─────────┼──────────────────┤\n",
       "│ SVGP.kernel.kernels[1].kernels[1].lengthscales  │ Parameter │ Softplus         │           │ True        │ ()            │ float32 │ 0.99999994       │\n",
       "├─────────────────────────────────────────────────┼───────────┼──────────────────┼───────────┼─────────────┼───────────────┼─────────┼──────────────────┤\n",
       "│ SVGP.kernel.kernels[2].variance                 │ Parameter │ Softplus         │           │ True        │ ()            │ float32 │ 0.99999994       │\n",
       "├─────────────────────────────────────────────────┼───────────┼──────────────────┼───────────┼─────────────┼───────────────┼─────────┼──────────────────┤\n",
       "│ SVGP.kernel.kernels[3].variance                 │ Parameter │ Softplus         │           │ True        │ ()            │ float32 │ 0.99999994       │\n",
       "├─────────────────────────────────────────────────┼───────────┼──────────────────┼───────────┼─────────────┼───────────────┼─────────┼──────────────────┤\n",
       "│ SVGP.kernel.kernels[3].lengthscales             │ Parameter │ Softplus         │           │ True        │ ()            │ float32 │ 0.99999994       │\n",
       "├─────────────────────────────────────────────────┼───────────┼──────────────────┼───────────┼─────────────┼───────────────┼─────────┼──────────────────┤\n",
       "│ SVGP.kernel.kernels[4].base_kernel.variance     │ Parameter │ Softplus         │           │ True        │ ()            │ float32 │ 0.99999994       │\n",
       "├─────────────────────────────────────────────────┼───────────┼──────────────────┼───────────┼─────────────┼───────────────┼─────────┼──────────────────┤\n",
       "│ SVGP.kernel.kernels[4].base_kernel.lengthscales │ Parameter │ Softplus         │           │ True        │ ()            │ float32 │ 0.99999994       │\n",
       "├─────────────────────────────────────────────────┼───────────┼──────────────────┼───────────┼─────────────┼───────────────┼─────────┼──────────────────┤\n",
       "│ SVGP.kernel.kernels[4].period                   │ Parameter │ Softplus         │           │ False       │ ()            │ float32 │ 0.2              │\n",
       "├─────────────────────────────────────────────────┼───────────┼──────────────────┼───────────┼─────────────┼───────────────┼─────────┼──────────────────┤\n",
       "│ SVGP.kernel.kernels[5].base_kernel.variance     │ Parameter │ Softplus         │           │ True        │ ()            │ float32 │ 0.99999994       │\n",
       "├─────────────────────────────────────────────────┼───────────┼──────────────────┼───────────┼─────────────┼───────────────┼─────────┼──────────────────┤\n",
       "│ SVGP.kernel.kernels[5].base_kernel.lengthscales │ Parameter │ Softplus         │           │ True        │ ()            │ float32 │ 0.99999994       │\n",
       "├─────────────────────────────────────────────────┼───────────┼──────────────────┼───────────┼─────────────┼───────────────┼─────────┼──────────────────┤\n",
       "│ SVGP.kernel.kernels[5].period                   │ Parameter │ Softplus         │           │ False       │ ()            │ float32 │ 0.99999994       │\n",
       "├─────────────────────────────────────────────────┼───────────┼──────────────────┼───────────┼─────────────┼───────────────┼─────────┼──────────────────┤\n",
       "│ SVGP.likelihood.variance                        │ Parameter │ Softplus + Shift │ LogNormal │ True        │ ()            │ float32 │ 1.0              │\n",
       "├─────────────────────────────────────────────────┼───────────┼──────────────────┼───────────┼─────────────┼───────────────┼─────────┼──────────────────┤\n",
       "│ SVGP.inducing_variable.Z                        │ Parameter │                  │           │ True        │ (100, 1)      │ float32 │ [[2.6828403...   │\n",
       "├─────────────────────────────────────────────────┼───────────┼──────────────────┼───────────┼─────────────┼───────────────┼─────────┼──────────────────┤\n",
       "│ SVGP.q_mu                                       │ Parameter │                  │           │ False       │ (100, 1)      │ float32 │ [[0....          │\n",
       "├─────────────────────────────────────────────────┼───────────┼──────────────────┼───────────┼─────────────┼───────────────┼─────────┼──────────────────┤\n",
       "│ SVGP.q_sqrt                                     │ Parameter │ FillTriangular   │           │ False       │ (1, 100, 100) │ float32 │ [[[1., 0., 0.... │\n",
       "╘═════════════════════════════════════════════════╧═══════════╧══════════════════╧═══════════╧═════════════╧═══════════════╧═════════╧══════════════════╛"
      ]
     },
     "execution_count": 4,
     "metadata": {},
     "output_type": "execute_result"
    }
   ],
   "source": [
    "trackable = build_model(inputs, inputs.kernel)\n",
    "trackable"
   ]
  },
  {
   "cell_type": "code",
   "execution_count": 5,
   "metadata": {},
   "outputs": [],
   "source": [
    "checkpoint = tf.train.Checkpoint(model=trackable)"
   ]
  },
  {
   "cell_type": "code",
   "execution_count": 6,
   "metadata": {},
   "outputs": [
    {
     "data": {
      "text/html": [
       "&lt;gpflow.models.svgp.SVGP object at 0x7fd286201750&gt;\n",
       "<table>\n",
       "<thead>\n",
       "<tr><th>name                                           </th><th>class    </th><th>transform       </th><th>prior    </th><th>trainable  </th><th>shape        </th><th>dtype  </th><th>value           </th></tr>\n",
       "</thead>\n",
       "<tbody>\n",
       "<tr><td>SVGP.kernel.kernels[0].kernels[0].variance     </td><td>Parameter</td><td>Softplus        </td><td>         </td><td>False      </td><td>()           </td><td>float32</td><td>0.99999994      </td></tr>\n",
       "<tr><td>SVGP.kernel.kernels[0].kernels[0].lengthscales </td><td>Parameter</td><td>Softplus        </td><td>         </td><td>True       </td><td>()           </td><td>float32</td><td>0.99999994      </td></tr>\n",
       "<tr><td>SVGP.kernel.kernels[0].kernels[1].variance     </td><td>Parameter</td><td>Softplus        </td><td>         </td><td>True       </td><td>()           </td><td>float32</td><td>0.99999994      </td></tr>\n",
       "<tr><td>SVGP.kernel.kernels[0].kernels[1].lengthscales </td><td>Parameter</td><td>Softplus        </td><td>         </td><td>True       </td><td>()           </td><td>float32</td><td>0.99999994      </td></tr>\n",
       "<tr><td>SVGP.kernel.kernels[1].kernels[0].variance     </td><td>Parameter</td><td>Softplus        </td><td>         </td><td>False      </td><td>()           </td><td>float32</td><td>0.99999994      </td></tr>\n",
       "<tr><td>SVGP.kernel.kernels[1].kernels[0].lengthscales </td><td>Parameter</td><td>Softplus        </td><td>         </td><td>True       </td><td>()           </td><td>float32</td><td>0.99999994      </td></tr>\n",
       "<tr><td>SVGP.kernel.kernels[1].kernels[1].variance     </td><td>Parameter</td><td>Softplus        </td><td>         </td><td>True       </td><td>()           </td><td>float32</td><td>0.99999994      </td></tr>\n",
       "<tr><td>SVGP.kernel.kernels[1].kernels[1].lengthscales </td><td>Parameter</td><td>Softplus        </td><td>         </td><td>True       </td><td>()           </td><td>float32</td><td>0.99999994      </td></tr>\n",
       "<tr><td>SVGP.kernel.kernels[2].variance                </td><td>Parameter</td><td>Softplus        </td><td>         </td><td>True       </td><td>()           </td><td>float32</td><td>0.99999994      </td></tr>\n",
       "<tr><td>SVGP.kernel.kernels[3].variance                </td><td>Parameter</td><td>Softplus        </td><td>         </td><td>True       </td><td>()           </td><td>float32</td><td>0.99999994      </td></tr>\n",
       "<tr><td>SVGP.kernel.kernels[3].lengthscales            </td><td>Parameter</td><td>Softplus        </td><td>         </td><td>True       </td><td>()           </td><td>float32</td><td>0.99999994      </td></tr>\n",
       "<tr><td>SVGP.kernel.kernels[4].base_kernel.variance    </td><td>Parameter</td><td>Softplus        </td><td>         </td><td>True       </td><td>()           </td><td>float32</td><td>0.99999994      </td></tr>\n",
       "<tr><td>SVGP.kernel.kernels[4].base_kernel.lengthscales</td><td>Parameter</td><td>Softplus        </td><td>         </td><td>True       </td><td>()           </td><td>float32</td><td>0.99999994      </td></tr>\n",
       "<tr><td>SVGP.kernel.kernels[4].period                  </td><td>Parameter</td><td>Softplus        </td><td>         </td><td>False      </td><td>()           </td><td>float32</td><td>0.2             </td></tr>\n",
       "<tr><td>SVGP.kernel.kernels[5].base_kernel.variance    </td><td>Parameter</td><td>Softplus        </td><td>         </td><td>True       </td><td>()           </td><td>float32</td><td>0.99999994      </td></tr>\n",
       "<tr><td>SVGP.kernel.kernels[5].base_kernel.lengthscales</td><td>Parameter</td><td>Softplus        </td><td>         </td><td>True       </td><td>()           </td><td>float32</td><td>0.99999994      </td></tr>\n",
       "<tr><td>SVGP.kernel.kernels[5].period                  </td><td>Parameter</td><td>Softplus        </td><td>         </td><td>False      </td><td>()           </td><td>float32</td><td>0.99999994      </td></tr>\n",
       "<tr><td>SVGP.likelihood.variance                       </td><td>Parameter</td><td>Softplus + Shift</td><td>LogNormal</td><td>True       </td><td>()           </td><td>float32</td><td>1.0             </td></tr>\n",
       "<tr><td>SVGP.inducing_variable.Z                       </td><td>Parameter</td><td>                </td><td>         </td><td>True       </td><td>(100, 1)     </td><td>float32</td><td>[[2.6828403...  </td></tr>\n",
       "<tr><td>SVGP.q_mu                                      </td><td>Parameter</td><td>                </td><td>         </td><td>False      </td><td>(100, 1)     </td><td>float32</td><td>[[0....         </td></tr>\n",
       "<tr><td>SVGP.q_sqrt                                    </td><td>Parameter</td><td>FillTriangular  </td><td>         </td><td>False      </td><td>(1, 100, 100)</td><td>float32</td><td>[[[1., 0., 0....</td></tr>\n",
       "</tbody>\n",
       "</table>"
      ],
      "text/plain": [
       "<gpflow.models.svgp.SVGP object at 0x7fd286201750>\n",
       "╒═════════════════════════════════════════════════╤═══════════╤══════════════════╤═══════════╤═════════════╤═══════════════╤═════════╤══════════════════╕\n",
       "│ name                                            │ class     │ transform        │ prior     │ trainable   │ shape         │ dtype   │ value            │\n",
       "╞═════════════════════════════════════════════════╪═══════════╪══════════════════╪═══════════╪═════════════╪═══════════════╪═════════╪══════════════════╡\n",
       "│ SVGP.kernel.kernels[0].kernels[0].variance      │ Parameter │ Softplus         │           │ False       │ ()            │ float32 │ 0.99999994       │\n",
       "├─────────────────────────────────────────────────┼───────────┼──────────────────┼───────────┼─────────────┼───────────────┼─────────┼──────────────────┤\n",
       "│ SVGP.kernel.kernels[0].kernels[0].lengthscales  │ Parameter │ Softplus         │           │ True        │ ()            │ float32 │ 0.99999994       │\n",
       "├─────────────────────────────────────────────────┼───────────┼──────────────────┼───────────┼─────────────┼───────────────┼─────────┼──────────────────┤\n",
       "│ SVGP.kernel.kernels[0].kernels[1].variance      │ Parameter │ Softplus         │           │ True        │ ()            │ float32 │ 0.99999994       │\n",
       "├─────────────────────────────────────────────────┼───────────┼──────────────────┼───────────┼─────────────┼───────────────┼─────────┼──────────────────┤\n",
       "│ SVGP.kernel.kernels[0].kernels[1].lengthscales  │ Parameter │ Softplus         │           │ True        │ ()            │ float32 │ 0.99999994       │\n",
       "├─────────────────────────────────────────────────┼───────────┼──────────────────┼───────────┼─────────────┼───────────────┼─────────┼──────────────────┤\n",
       "│ SVGP.kernel.kernels[1].kernels[0].variance      │ Parameter │ Softplus         │           │ False       │ ()            │ float32 │ 0.99999994       │\n",
       "├─────────────────────────────────────────────────┼───────────┼──────────────────┼───────────┼─────────────┼───────────────┼─────────┼──────────────────┤\n",
       "│ SVGP.kernel.kernels[1].kernels[0].lengthscales  │ Parameter │ Softplus         │           │ True        │ ()            │ float32 │ 0.99999994       │\n",
       "├─────────────────────────────────────────────────┼───────────┼──────────────────┼───────────┼─────────────┼───────────────┼─────────┼──────────────────┤\n",
       "│ SVGP.kernel.kernels[1].kernels[1].variance      │ Parameter │ Softplus         │           │ True        │ ()            │ float32 │ 0.99999994       │\n",
       "├─────────────────────────────────────────────────┼───────────┼──────────────────┼───────────┼─────────────┼───────────────┼─────────┼──────────────────┤\n",
       "│ SVGP.kernel.kernels[1].kernels[1].lengthscales  │ Parameter │ Softplus         │           │ True        │ ()            │ float32 │ 0.99999994       │\n",
       "├─────────────────────────────────────────────────┼───────────┼──────────────────┼───────────┼─────────────┼───────────────┼─────────┼──────────────────┤\n",
       "│ SVGP.kernel.kernels[2].variance                 │ Parameter │ Softplus         │           │ True        │ ()            │ float32 │ 0.99999994       │\n",
       "├─────────────────────────────────────────────────┼───────────┼──────────────────┼───────────┼─────────────┼───────────────┼─────────┼──────────────────┤\n",
       "│ SVGP.kernel.kernels[3].variance                 │ Parameter │ Softplus         │           │ True        │ ()            │ float32 │ 0.99999994       │\n",
       "├─────────────────────────────────────────────────┼───────────┼──────────────────┼───────────┼─────────────┼───────────────┼─────────┼──────────────────┤\n",
       "│ SVGP.kernel.kernels[3].lengthscales             │ Parameter │ Softplus         │           │ True        │ ()            │ float32 │ 0.99999994       │\n",
       "├─────────────────────────────────────────────────┼───────────┼──────────────────┼───────────┼─────────────┼───────────────┼─────────┼──────────────────┤\n",
       "│ SVGP.kernel.kernels[4].base_kernel.variance     │ Parameter │ Softplus         │           │ True        │ ()            │ float32 │ 0.99999994       │\n",
       "├─────────────────────────────────────────────────┼───────────┼──────────────────┼───────────┼─────────────┼───────────────┼─────────┼──────────────────┤\n",
       "│ SVGP.kernel.kernels[4].base_kernel.lengthscales │ Parameter │ Softplus         │           │ True        │ ()            │ float32 │ 0.99999994       │\n",
       "├─────────────────────────────────────────────────┼───────────┼──────────────────┼───────────┼─────────────┼───────────────┼─────────┼──────────────────┤\n",
       "│ SVGP.kernel.kernels[4].period                   │ Parameter │ Softplus         │           │ False       │ ()            │ float32 │ 0.2              │\n",
       "├─────────────────────────────────────────────────┼───────────┼──────────────────┼───────────┼─────────────┼───────────────┼─────────┼──────────────────┤\n",
       "│ SVGP.kernel.kernels[5].base_kernel.variance     │ Parameter │ Softplus         │           │ True        │ ()            │ float32 │ 0.99999994       │\n",
       "├─────────────────────────────────────────────────┼───────────┼──────────────────┼───────────┼─────────────┼───────────────┼─────────┼──────────────────┤\n",
       "│ SVGP.kernel.kernels[5].base_kernel.lengthscales │ Parameter │ Softplus         │           │ True        │ ()            │ float32 │ 0.99999994       │\n",
       "├─────────────────────────────────────────────────┼───────────┼──────────────────┼───────────┼─────────────┼───────────────┼─────────┼──────────────────┤\n",
       "│ SVGP.kernel.kernels[5].period                   │ Parameter │ Softplus         │           │ False       │ ()            │ float32 │ 0.99999994       │\n",
       "├─────────────────────────────────────────────────┼───────────┼──────────────────┼───────────┼─────────────┼───────────────┼─────────┼──────────────────┤\n",
       "│ SVGP.likelihood.variance                        │ Parameter │ Softplus + Shift │ LogNormal │ True        │ ()            │ float32 │ 1.0              │\n",
       "├─────────────────────────────────────────────────┼───────────┼──────────────────┼───────────┼─────────────┼───────────────┼─────────┼──────────────────┤\n",
       "│ SVGP.inducing_variable.Z                        │ Parameter │                  │           │ True        │ (100, 1)      │ float32 │ [[2.6828403...   │\n",
       "├─────────────────────────────────────────────────┼───────────┼──────────────────┼───────────┼─────────────┼───────────────┼─────────┼──────────────────┤\n",
       "│ SVGP.q_mu                                       │ Parameter │                  │           │ False       │ (100, 1)      │ float32 │ [[0....          │\n",
       "├─────────────────────────────────────────────────┼───────────┼──────────────────┼───────────┼─────────────┼───────────────┼─────────┼──────────────────┤\n",
       "│ SVGP.q_sqrt                                     │ Parameter │ FillTriangular   │           │ False       │ (1, 100, 100) │ float32 │ [[[1., 0., 0.... │\n",
       "╘═════════════════════════════════════════════════╧═══════════╧══════════════════╧═══════════╧═════════════╧═══════════════╧═════════╧══════════════════╛"
      ]
     },
     "execution_count": 6,
     "metadata": {},
     "output_type": "execute_result"
    }
   ],
   "source": [
    "checkpoint.model"
   ]
  },
  {
   "cell_type": "code",
   "execution_count": null,
   "metadata": {},
   "outputs": [],
   "source": [
    "#checkpoint.save('tmp/training_checkpoints')"
   ]
  },
  {
   "cell_type": "code",
   "execution_count": 7,
   "metadata": {},
   "outputs": [],
   "source": [
    "status = checkpoint.restore(tf.train.latest_checkpoint('tmp/'))"
   ]
  },
  {
   "cell_type": "code",
   "execution_count": 8,
   "metadata": {},
   "outputs": [
    {
     "data": {
      "text/html": [
       "&lt;gpflow.models.svgp.SVGP object at 0x7fd286201750&gt;\n",
       "<table>\n",
       "<thead>\n",
       "<tr><th>name                                           </th><th>class    </th><th>transform       </th><th>prior    </th><th>trainable  </th><th>shape        </th><th>dtype  </th><th>value                  </th></tr>\n",
       "</thead>\n",
       "<tbody>\n",
       "<tr><td>SVGP.kernel.kernels[0].kernels[0].variance     </td><td>Parameter</td><td>Softplus        </td><td>         </td><td>False      </td><td>()           </td><td>float32</td><td>0.99999994             </td></tr>\n",
       "<tr><td>SVGP.kernel.kernels[0].kernels[0].lengthscales </td><td>Parameter</td><td>Softplus        </td><td>         </td><td>True       </td><td>()           </td><td>float32</td><td>1.1455423              </td></tr>\n",
       "<tr><td>SVGP.kernel.kernels[0].kernels[1].variance     </td><td>Parameter</td><td>Softplus        </td><td>         </td><td>True       </td><td>()           </td><td>float32</td><td>0.020768672            </td></tr>\n",
       "<tr><td>SVGP.kernel.kernels[0].kernels[1].lengthscales </td><td>Parameter</td><td>Softplus        </td><td>         </td><td>True       </td><td>()           </td><td>float32</td><td>1.4230937              </td></tr>\n",
       "<tr><td>SVGP.kernel.kernels[1].kernels[0].variance     </td><td>Parameter</td><td>Softplus        </td><td>         </td><td>False      </td><td>()           </td><td>float32</td><td>0.99999994             </td></tr>\n",
       "<tr><td>SVGP.kernel.kernels[1].kernels[0].lengthscales </td><td>Parameter</td><td>Softplus        </td><td>         </td><td>True       </td><td>()           </td><td>float32</td><td>2.010384               </td></tr>\n",
       "<tr><td>SVGP.kernel.kernels[1].kernels[1].variance     </td><td>Parameter</td><td>Softplus        </td><td>         </td><td>True       </td><td>()           </td><td>float32</td><td>0.03147147             </td></tr>\n",
       "<tr><td>SVGP.kernel.kernels[1].kernels[1].lengthscales </td><td>Parameter</td><td>Softplus        </td><td>         </td><td>True       </td><td>()           </td><td>float32</td><td>2.0271006              </td></tr>\n",
       "<tr><td>SVGP.kernel.kernels[2].variance                </td><td>Parameter</td><td>Softplus        </td><td>         </td><td>True       </td><td>()           </td><td>float32</td><td>0.1346441              </td></tr>\n",
       "<tr><td>SVGP.kernel.kernels[3].variance                </td><td>Parameter</td><td>Softplus        </td><td>         </td><td>True       </td><td>()           </td><td>float32</td><td>0.037861798            </td></tr>\n",
       "<tr><td>SVGP.kernel.kernels[3].lengthscales            </td><td>Parameter</td><td>Softplus        </td><td>         </td><td>True       </td><td>()           </td><td>float32</td><td>2.2514498              </td></tr>\n",
       "<tr><td>SVGP.kernel.kernels[4].base_kernel.variance    </td><td>Parameter</td><td>Softplus        </td><td>         </td><td>True       </td><td>()           </td><td>float32</td><td>0.66978085             </td></tr>\n",
       "<tr><td>SVGP.kernel.kernels[4].base_kernel.lengthscales</td><td>Parameter</td><td>Softplus        </td><td>         </td><td>True       </td><td>()           </td><td>float32</td><td>0.42541957             </td></tr>\n",
       "<tr><td>SVGP.kernel.kernels[4].period                  </td><td>Parameter</td><td>Softplus        </td><td>         </td><td>False      </td><td>()           </td><td>float32</td><td>0.2                    </td></tr>\n",
       "<tr><td>SVGP.kernel.kernels[5].base_kernel.variance    </td><td>Parameter</td><td>Softplus        </td><td>         </td><td>True       </td><td>()           </td><td>float32</td><td>0.035648685            </td></tr>\n",
       "<tr><td>SVGP.kernel.kernels[5].base_kernel.lengthscales</td><td>Parameter</td><td>Softplus        </td><td>         </td><td>True       </td><td>()           </td><td>float32</td><td>2.0786452              </td></tr>\n",
       "<tr><td>SVGP.kernel.kernels[5].period                  </td><td>Parameter</td><td>Softplus        </td><td>         </td><td>False      </td><td>()           </td><td>float32</td><td>0.99999994             </td></tr>\n",
       "<tr><td>SVGP.likelihood.variance                       </td><td>Parameter</td><td>Softplus + Shift</td><td>LogNormal</td><td>True       </td><td>()           </td><td>float32</td><td>0.115195915            </td></tr>\n",
       "<tr><td>SVGP.inducing_variable.Z                       </td><td>Parameter</td><td>                </td><td>         </td><td>True       </td><td>(100, 1)     </td><td>float32</td><td>[[10.7020645...        </td></tr>\n",
       "<tr><td>SVGP.q_mu                                      </td><td>Parameter</td><td>                </td><td>         </td><td>False      </td><td>(100, 1)     </td><td>float32</td><td>[[0.1398065...         </td></tr>\n",
       "<tr><td>SVGP.q_sqrt                                    </td><td>Parameter</td><td>FillTriangular  </td><td>         </td><td>False      </td><td>(1, 100, 100)</td><td>float32</td><td>[[[0.0297127, 0., 0....</td></tr>\n",
       "</tbody>\n",
       "</table>"
      ],
      "text/plain": [
       "<gpflow.models.svgp.SVGP object at 0x7fd286201750>\n",
       "╒═════════════════════════════════════════════════╤═══════════╤══════════════════╤═══════════╤═════════════╤═══════════════╤═════════╤═════════════════════════╕\n",
       "│ name                                            │ class     │ transform        │ prior     │ trainable   │ shape         │ dtype   │ value                   │\n",
       "╞═════════════════════════════════════════════════╪═══════════╪══════════════════╪═══════════╪═════════════╪═══════════════╪═════════╪═════════════════════════╡\n",
       "│ SVGP.kernel.kernels[0].kernels[0].variance      │ Parameter │ Softplus         │           │ False       │ ()            │ float32 │ 0.99999994              │\n",
       "├─────────────────────────────────────────────────┼───────────┼──────────────────┼───────────┼─────────────┼───────────────┼─────────┼─────────────────────────┤\n",
       "│ SVGP.kernel.kernels[0].kernels[0].lengthscales  │ Parameter │ Softplus         │           │ True        │ ()            │ float32 │ 1.1455423               │\n",
       "├─────────────────────────────────────────────────┼───────────┼──────────────────┼───────────┼─────────────┼───────────────┼─────────┼─────────────────────────┤\n",
       "│ SVGP.kernel.kernels[0].kernels[1].variance      │ Parameter │ Softplus         │           │ True        │ ()            │ float32 │ 0.020768672             │\n",
       "├─────────────────────────────────────────────────┼───────────┼──────────────────┼───────────┼─────────────┼───────────────┼─────────┼─────────────────────────┤\n",
       "│ SVGP.kernel.kernels[0].kernels[1].lengthscales  │ Parameter │ Softplus         │           │ True        │ ()            │ float32 │ 1.4230937               │\n",
       "├─────────────────────────────────────────────────┼───────────┼──────────────────┼───────────┼─────────────┼───────────────┼─────────┼─────────────────────────┤\n",
       "│ SVGP.kernel.kernels[1].kernels[0].variance      │ Parameter │ Softplus         │           │ False       │ ()            │ float32 │ 0.99999994              │\n",
       "├─────────────────────────────────────────────────┼───────────┼──────────────────┼───────────┼─────────────┼───────────────┼─────────┼─────────────────────────┤\n",
       "│ SVGP.kernel.kernels[1].kernels[0].lengthscales  │ Parameter │ Softplus         │           │ True        │ ()            │ float32 │ 2.010384                │\n",
       "├─────────────────────────────────────────────────┼───────────┼──────────────────┼───────────┼─────────────┼───────────────┼─────────┼─────────────────────────┤\n",
       "│ SVGP.kernel.kernels[1].kernels[1].variance      │ Parameter │ Softplus         │           │ True        │ ()            │ float32 │ 0.03147147              │\n",
       "├─────────────────────────────────────────────────┼───────────┼──────────────────┼───────────┼─────────────┼───────────────┼─────────┼─────────────────────────┤\n",
       "│ SVGP.kernel.kernels[1].kernels[1].lengthscales  │ Parameter │ Softplus         │           │ True        │ ()            │ float32 │ 2.0271006               │\n",
       "├─────────────────────────────────────────────────┼───────────┼──────────────────┼───────────┼─────────────┼───────────────┼─────────┼─────────────────────────┤\n",
       "│ SVGP.kernel.kernels[2].variance                 │ Parameter │ Softplus         │           │ True        │ ()            │ float32 │ 0.1346441               │\n",
       "├─────────────────────────────────────────────────┼───────────┼──────────────────┼───────────┼─────────────┼───────────────┼─────────┼─────────────────────────┤\n",
       "│ SVGP.kernel.kernels[3].variance                 │ Parameter │ Softplus         │           │ True        │ ()            │ float32 │ 0.037861798             │\n",
       "├─────────────────────────────────────────────────┼───────────┼──────────────────┼───────────┼─────────────┼───────────────┼─────────┼─────────────────────────┤\n",
       "│ SVGP.kernel.kernels[3].lengthscales             │ Parameter │ Softplus         │           │ True        │ ()            │ float32 │ 2.2514498               │\n",
       "├─────────────────────────────────────────────────┼───────────┼──────────────────┼───────────┼─────────────┼───────────────┼─────────┼─────────────────────────┤\n",
       "│ SVGP.kernel.kernels[4].base_kernel.variance     │ Parameter │ Softplus         │           │ True        │ ()            │ float32 │ 0.66978085              │\n",
       "├─────────────────────────────────────────────────┼───────────┼──────────────────┼───────────┼─────────────┼───────────────┼─────────┼─────────────────────────┤\n",
       "│ SVGP.kernel.kernels[4].base_kernel.lengthscales │ Parameter │ Softplus         │           │ True        │ ()            │ float32 │ 0.42541957              │\n",
       "├─────────────────────────────────────────────────┼───────────┼──────────────────┼───────────┼─────────────┼───────────────┼─────────┼─────────────────────────┤\n",
       "│ SVGP.kernel.kernels[4].period                   │ Parameter │ Softplus         │           │ False       │ ()            │ float32 │ 0.2                     │\n",
       "├─────────────────────────────────────────────────┼───────────┼──────────────────┼───────────┼─────────────┼───────────────┼─────────┼─────────────────────────┤\n",
       "│ SVGP.kernel.kernels[5].base_kernel.variance     │ Parameter │ Softplus         │           │ True        │ ()            │ float32 │ 0.035648685             │\n",
       "├─────────────────────────────────────────────────┼───────────┼──────────────────┼───────────┼─────────────┼───────────────┼─────────┼─────────────────────────┤\n",
       "│ SVGP.kernel.kernels[5].base_kernel.lengthscales │ Parameter │ Softplus         │           │ True        │ ()            │ float32 │ 2.0786452               │\n",
       "├─────────────────────────────────────────────────┼───────────┼──────────────────┼───────────┼─────────────┼───────────────┼─────────┼─────────────────────────┤\n",
       "│ SVGP.kernel.kernels[5].period                   │ Parameter │ Softplus         │           │ False       │ ()            │ float32 │ 0.99999994              │\n",
       "├─────────────────────────────────────────────────┼───────────┼──────────────────┼───────────┼─────────────┼───────────────┼─────────┼─────────────────────────┤\n",
       "│ SVGP.likelihood.variance                        │ Parameter │ Softplus + Shift │ LogNormal │ True        │ ()            │ float32 │ 0.115195915             │\n",
       "├─────────────────────────────────────────────────┼───────────┼──────────────────┼───────────┼─────────────┼───────────────┼─────────┼─────────────────────────┤\n",
       "│ SVGP.inducing_variable.Z                        │ Parameter │                  │           │ True        │ (100, 1)      │ float32 │ [[10.7020645...         │\n",
       "├─────────────────────────────────────────────────┼───────────┼──────────────────┼───────────┼─────────────┼───────────────┼─────────┼─────────────────────────┤\n",
       "│ SVGP.q_mu                                       │ Parameter │                  │           │ False       │ (100, 1)      │ float32 │ [[0.1398065...          │\n",
       "├─────────────────────────────────────────────────┼───────────┼──────────────────┼───────────┼─────────────┼───────────────┼─────────┼─────────────────────────┤\n",
       "│ SVGP.q_sqrt                                     │ Parameter │ FillTriangular   │           │ False       │ (1, 100, 100) │ float32 │ [[[0.0297127, 0., 0.... │\n",
       "╘═════════════════════════════════════════════════╧═══════════╧══════════════════╧═══════════╧═════════════╧═══════════════╧═════════╧═════════════════════════╛"
      ]
     },
     "execution_count": 8,
     "metadata": {},
     "output_type": "execute_result"
    }
   ],
   "source": [
    "trackable"
   ]
  },
  {
   "cell_type": "code",
   "execution_count": null,
   "metadata": {},
   "outputs": [],
   "source": []
  },
  {
   "cell_type": "code",
   "execution_count": null,
   "metadata": {},
   "outputs": [],
   "source": []
  }
 ],
 "metadata": {
  "kernelspec": {
   "display_name": "Python 3",
   "language": "python",
   "name": "python3"
  },
  "language_info": {
   "codemirror_mode": {
    "name": "ipython",
    "version": 3
   },
   "file_extension": ".py",
   "mimetype": "text/x-python",
   "name": "python",
   "nbconvert_exporter": "python",
   "pygments_lexer": "ipython3",
   "version": "3.7.6"
  }
 },
 "nbformat": 4,
 "nbformat_minor": 4
}
